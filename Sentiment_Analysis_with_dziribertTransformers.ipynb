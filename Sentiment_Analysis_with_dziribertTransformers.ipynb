{
  "nbformat": 4,
  "nbformat_minor": 0,
  "metadata": {
    "colab": {
      "provenance": [],
      "authorship_tag": "ABX9TyP2UAqIKpYesPCC0V1LVg5I",
      "include_colab_link": true
    },
    "kernelspec": {
      "name": "python3",
      "display_name": "Python 3"
    },
    "language_info": {
      "name": "python"
    }
  },
  "cells": [
    {
      "cell_type": "markdown",
      "metadata": {
        "id": "view-in-github",
        "colab_type": "text"
      },
      "source": [
        "<a href=\"https://colab.research.google.com/github/MhAmine/intro-to-NLP-Workshop/blob/main/Sentiment_Analysis_with_dziribertTransformers.ipynb\" target=\"_parent\"><img src=\"https://colab.research.google.com/assets/colab-badge.svg\" alt=\"Open In Colab\"/></a>"
      ]
    },
    {
      "cell_type": "markdown",
      "source": [
        "## Sentiment Analysis with dziribert_sentiment Model"
      ],
      "metadata": {
        "id": "ciSP0GOnavne"
      }
    },
    {
      "cell_type": "markdown",
      "source": [
        "### 1. Test the dziribert_sentiment Model"
      ],
      "metadata": {
        "id": "q73ambF0bvyt"
      }
    },
    {
      "cell_type": "code",
      "source": [
        "# Load the model\n",
        "from transformers import pipeline\n",
        "\n",
        "# Load the sentiment analysis model\n",
        "sentiment_analyzer = pipeline(\"sentiment-analysis\", model=\"alger-ia/dziribert_sentiment\")"
      ],
      "metadata": {
        "colab": {
          "base_uri": "https://localhost:8080/"
        },
        "id": "HLvxp0VDax5h",
        "outputId": "b879435b-148d-4929-8ad1-b4251403b21e"
      },
      "execution_count": 3,
      "outputs": [
        {
          "output_type": "stream",
          "name": "stderr",
          "text": [
            "Device set to use cpu\n"
          ]
        }
      ]
    },
    {
      "cell_type": "markdown",
      "source": [],
      "metadata": {
        "id": "2_4u75o2avra"
      }
    },
    {
      "cell_type": "code",
      "source": [
        "# Example French texts\n",
        "texts = [\n",
        "    \"ma3jbnich film , y3ayyi\",   # Positive\n",
        "    \"علاش ميش تمشيلي كونيكسيو فليل عندها سمانة وهيا تروحلي\",\n",
        " # Negative\n",
        "    \"احسن شركة اتصالات في الجزائر .بارك اله فيكم.\"  # Neutral\n",
        "]\n",
        "\n",
        "# Analyze sentiment\n",
        "for text in texts:\n",
        "    result = sentiment_analyzer(text)\n",
        "    print(f\"Texte: {text} \\nSentiment: {result}\\n\")"
      ],
      "metadata": {
        "colab": {
          "base_uri": "https://localhost:8080/"
        },
        "id": "uEY_v3ulaypv",
        "outputId": "eff1f903-61f0-43cd-ed26-1db39c6b5618"
      },
      "execution_count": 4,
      "outputs": [
        {
          "output_type": "stream",
          "name": "stdout",
          "text": [
            "Texte: ma3jbnich film , y3ayyi \n",
            "Sentiment: [{'label': 'negative', 'score': 0.9749836325645447}]\n",
            "\n",
            "Texte: علاش ميش تمشيلي كونيكسيو فليل عندها سمانة وهيا تروحلي \n",
            "Sentiment: [{'label': 'negative', 'score': 0.8585068583488464}]\n",
            "\n",
            "Texte: احسن شركة اتصالات في الجزائر .بارك اله فيكم. \n",
            "Sentiment: [{'label': 'positive', 'score': 0.9494749903678894}]\n",
            "\n"
          ]
        }
      ]
    },
    {
      "cell_type": "markdown",
      "source": [
        "## Real data Example"
      ],
      "metadata": {
        "id": "7bBI0-_YcLR4"
      }
    },
    {
      "cell_type": "markdown",
      "source": [],
      "metadata": {
        "id": "ekD4RjEacQsZ"
      }
    },
    {
      "cell_type": "code",
      "source": [],
      "metadata": {
        "id": "1elh6hsIcDcf"
      },
      "execution_count": null,
      "outputs": []
    },
    {
      "cell_type": "markdown",
      "source": [],
      "metadata": {
        "id": "cqS15kc_cKHH"
      }
    }
  ]
}